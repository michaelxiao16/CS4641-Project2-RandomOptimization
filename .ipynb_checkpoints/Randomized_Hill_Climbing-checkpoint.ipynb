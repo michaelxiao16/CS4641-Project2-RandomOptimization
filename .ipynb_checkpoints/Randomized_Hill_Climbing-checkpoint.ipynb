{
 "cells": [
  {
   "cell_type": "code",
   "execution_count": 1,
   "metadata": {},
   "outputs": [],
   "source": [
    "import mlrose\n",
    "import numpy as np\n",
    "import csv\n",
    "import pandas as pd\n",
    "import matplotlib.pyplot as plt\n",
    "from timeit import default_timer as timer\n",
    "from sklearn import preprocessing\n",
    "from sklearn.model_selection import train_test_split\n",
    "from sklearn.preprocessing import MinMaxScaler, OneHotEncoder\n",
    "from sklearn.metrics import accuracy_score\n",
    "from textwrap import wrap"
   ]
  },
  {
   "cell_type": "code",
   "execution_count": 2,
   "metadata": {},
   "outputs": [],
   "source": [
    "# df = pd.read_csv('audit_dataset.csv', header = None)\n",
    "\n",
    "# df = pd.get_dummies(df)\n",
    "\n",
    "# df = df.astype(float)\n",
    "\n",
    "# X = df.iloc[:, 0:-1]\n",
    "# y = df.iloc[:, -1]\n",
    "df = pd.read_csv('AP_Analytics.csv', delimiter=',', quotechar='\"')\n",
    "\n",
    "df = pd.get_dummies(df)\n",
    "\n",
    "\n",
    "X = df.loc[:, df.columns != 'Chance of Admit ']\n",
    "y = df['Chance of Admit ']\n"
   ]
  },
  {
   "cell_type": "code",
   "execution_count": 3,
   "metadata": {},
   "outputs": [],
   "source": [
    "X_train, X_test, y_train, y_test = train_test_split(X, y, test_size=0.30, random_state=30)"
   ]
  },
  {
   "cell_type": "code",
   "execution_count": 4,
   "metadata": {},
   "outputs": [],
   "source": [
    "scaler = MinMaxScaler()\n",
    "\n",
    "X_train_scaled = X_train\n",
    "X_test_scaled = X_test"
   ]
  },
  {
   "cell_type": "code",
   "execution_count": 5,
   "metadata": {},
   "outputs": [],
   "source": [
    "# one_hot = OneHotEncoder(categories='auto')\n",
    "\n",
    "# y_train_hot = one_hot.fit_transform(y_train.values.reshape(-1, 1)).todense()\n",
    "# y_test_hot = one_hot.transform(y_test.values.reshape(-1, 1)).todense()\n",
    "y_train_hot = y_train\n",
    "y_test_hot = y_test"
   ]
  },
  {
   "cell_type": "markdown",
   "metadata": {},
   "source": [
    "# Testing Number of Restarts"
   ]
  },
  {
   "cell_type": "code",
   "execution_count": 6,
   "metadata": {
    "scrolled": true
   },
   "outputs": [
    {
     "name": "stdout",
     "output_type": "stream",
     "text": [
      "0 [0.7114285714285714] 0.7266666666666667\n",
      "5 [0.7114285714285714, 0.2885714285714286] 0.2733333333333333\n",
      "10 [0.7114285714285714, 0.2885714285714286, 0.7114285714285714] 0.7266666666666667\n",
      "15 [0.7114285714285714, 0.2885714285714286, 0.7114285714285714, 0.2885714285714286] 0.2733333333333333\n",
      "20 [0.7114285714285714, 0.2885714285714286, 0.7114285714285714, 0.2885714285714286, 0.2885714285714286] 0.2733333333333333\n",
      "25 [0.7114285714285714, 0.2885714285714286, 0.7114285714285714, 0.2885714285714286, 0.2885714285714286, 0.2885714285714286] 0.2733333333333333\n",
      "30 [0.7114285714285714, 0.2885714285714286, 0.7114285714285714, 0.2885714285714286, 0.2885714285714286, 0.2885714285714286, 0.2885714285714286] 0.2733333333333333\n",
      "35 [0.7114285714285714, 0.2885714285714286, 0.7114285714285714, 0.2885714285714286, 0.2885714285714286, 0.2885714285714286, 0.2885714285714286, 0.2885714285714286] 0.2733333333333333\n",
      "40 [0.7114285714285714, 0.2885714285714286, 0.7114285714285714, 0.2885714285714286, 0.2885714285714286, 0.2885714285714286, 0.2885714285714286, 0.2885714285714286, 0.7114285714285714] 0.7266666666666667\n",
      "45 [0.7114285714285714, 0.2885714285714286, 0.7114285714285714, 0.2885714285714286, 0.2885714285714286, 0.2885714285714286, 0.2885714285714286, 0.2885714285714286, 0.7114285714285714, 0.7114285714285714] 0.7266666666666667\n",
      "50 [0.7114285714285714, 0.2885714285714286, 0.7114285714285714, 0.2885714285714286, 0.2885714285714286, 0.2885714285714286, 0.2885714285714286, 0.2885714285714286, 0.7114285714285714, 0.7114285714285714, 0.2885714285714286] 0.2733333333333333\n"
     ]
    }
   ],
   "source": [
    "np.random.seed(8)\n",
    "restartss = list(range(0, 51, 5))\n",
    "testError = []\n",
    "trainError = []\n",
    "for r in restartss :\n",
    "    nn_model1 = mlrose.NeuralNetwork(hidden_nodes = [13], activation ='sigmoid', \n",
    "                                 algorithm ='random_hill_climb', \n",
    "                                 max_iters = 60000, bias = True, is_classifier = True, restarts = r, \n",
    "                                 learning_rate = .0001, early_stopping = True)\n",
    "    nn_model1.fit(X_train_scaled, y_train_hot)\n",
    "    y_train_pred = nn_model1.predict(X_train_scaled)\n",
    "    train_error = 1 - accuracy_score(y_train_hot, y_train_pred)\n",
    "    trainError.append(train_error)\n",
    "    y_test_pred = nn_model1.predict(X_test_scaled)\n",
    "    test_error = 1 - accuracy_score(y_test_hot, y_test_pred)\n",
    "    testError.append(test_error)\n",
    "    print(r, trainError, test_error)\n"
   ]
  },
  {
   "cell_type": "code",
   "execution_count": 7,
   "metadata": {},
   "outputs": [
    {
     "data": {
      "image/png": "[encoded data removed]",
      "text/plain": [
       "<Figure size 432x288 with 1 Axes>"
      ]
     },
     "metadata": {
      "needs_background": "light"
     },
     "output_type": "display_data"
    }
   ],
   "source": [
    "plt.figure()\n",
    "title = \"Random Hill Climb : Error x Number of Restarts - 1000 Max Iterations\"\n",
    "plt.title('\\n'.join(wrap(title,60)))\n",
    "# plt.subplots_adjust(top=0.85)\n",
    "plt.plot(restartss, testError, '-', label='Test Error')\n",
    "plt.plot(restartss, trainError, '-', label='Train Error')\n",
    "plt.legend()\n",
    "plt.xlabel('Restarts')\n",
    "plt.ylabel('Error')\n",
    "filename = 'RHC_MaxIter.png'\n",
    "plt.savefig(\"RHC/\" + filename)"
   ]
  },
  {
   "cell_type": "markdown",
   "metadata": {},
   "source": [
    "# Testing Number of Iterations"
   ]
  },
  {
   "cell_type": "code",
   "execution_count": 8,
   "metadata": {},
   "outputs": [
    {
     "name": "stdout",
     "output_type": "stream",
     "text": [
      "250 0.72\n",
      "500 0.7266666666666667\n",
      "1000 0.2733333333333333\n",
      "2000 0.2733333333333333\n",
      "4000 0.2733333333333333\n",
      "8000 0.7266666666666667\n",
      "16000 0.72\n",
      "32000 0.7266666666666667\n",
      "64000 0.2733333333333333\n"
     ]
    }
   ],
   "source": [
    "np.random.seed(4)\n",
    "restartss = [250, 500, 1000, 2000, 4000, 8000, 16000, 32000, 64000]\n",
    "testError = []\n",
    "trainError = []\n",
    "for r in restartss :\n",
    "    nn_model1 = mlrose.NeuralNetwork(hidden_nodes = [13], activation ='sigmoid', \n",
    "                                 algorithm ='random_hill_climb', \n",
    "                                 max_iters = r, bias = True, is_classifier = True, restarts = 40, \n",
    "                                 learning_rate = .0001, early_stopping = True)\n",
    "    nn_model1.fit(X_train_scaled, y_train_hot)\n",
    "    y_train_pred = nn_model1.predict(X_train_scaled)\n",
    "    train_error = 1 - accuracy_score(y_train_hot, y_train_pred)\n",
    "    trainError.append(train_error)\n",
    "    y_test_pred = nn_model1.predict(X_test_scaled)\n",
    "    test_error = 1 - accuracy_score(y_test_hot, y_test_pred)\n",
    "    testError.append(test_error)\n",
    "    print(r, test_error)\n",
    "\n"
   ]
  },
  {
   "cell_type": "code",
   "execution_count": 9,
   "metadata": {},
   "outputs": [
    {
     "name": "stdout",
     "output_type": "stream",
     "text": [
      "[0.72, 0.7266666666666667, 0.2733333333333333, 0.2733333333333333, 0.2733333333333333, 0.7266666666666667, 0.72, 0.7266666666666667, 0.2733333333333333]\n"
     ]
    },
    {
     "data": {
      "image/png": "[encoded data removed]",
      "text/plain": [
       "<Figure size 432x288 with 1 Axes>"
      ]
     },
     "metadata": {
      "needs_background": "light"
     },
     "output_type": "display_data"
    }
   ],
   "source": [
    "print(testError)\n",
    "plt.figure()\n",
    "title = \"Random Hill Climb : Error x Max Iterations - Number of Restarts 40\"\n",
    "plt.title('\\n'.join(wrap(title,60)))\n",
    "# plt.subplots_adjust(top=0.85)\n",
    "plt.plot(restartss, testError, '-', label='Test Error')\n",
    "plt.plot(restartss, trainError, '-', label='Train Error')\n",
    "plt.legend()\n",
    "plt.xlabel('Max Iterations')\n",
    "plt.ylabel('Error')\n",
    "filename = 'RHC_MaxIter.png'\n",
    "plt.savefig(\"RHC/\" + filename)"
   ]
  },
  {
   "cell_type": "markdown",
   "metadata": {},
   "source": [
    "# Runtime "
   ]
  },
  {
   "cell_type": "code",
   "execution_count": 10,
   "metadata": {},
   "outputs": [
    {
     "name": "stdout",
     "output_type": "stream",
     "text": [
      "start\n",
      "0 0.6048348390000005\n",
      "1 0.39774175099999987\n",
      "2 0.37518375299999995\n",
      "3 0.5572133640000008\n",
      "4 0.48024792500000046\n",
      "5 0.3715223250000008\n",
      "6 0.6287992550000006\n",
      "7 0.347000082000001\n",
      "8 0.36227394100000154\n",
      "9 0.5599049170000008\n",
      "[0.6048348390000005, 0.39774175099999987, 0.37518375299999995, 0.5572133640000008, 0.48024792500000046, 0.3715223250000008, 0.6287992550000006, 0.347000082000001, 0.36227394100000154, 0.5599049170000008]\n"
     ]
    }
   ],
   "source": [
    "np.random.seed(4)\n",
    "time = []\n",
    "testError = []\n",
    "trainError = []\n",
    "print(\"start\")\n",
    "for i in range(0, 10) :\n",
    "    start = timer()\n",
    "    nn_model1 = mlrose.NeuralNetwork(hidden_nodes = [13], activation ='sigmoid', \n",
    "                                 algorithm ='random_hill_climb', \n",
    "                                 max_iters = 60000, bias = True, is_classifier = True, restarts = 40, \n",
    "                                 learning_rate = .0001, early_stopping = True)\n",
    "    nn_model1.fit(X_train_scaled, y_train_hot)\n",
    "    y_train_pred = nn_model1.predict(X_train_scaled)\n",
    "    train_error = 1 - accuracy_score(y_train_hot, y_train_pred)\n",
    "    trainError.append(train_error)\n",
    "    y_test_pred = nn_model1.predict(X_test_scaled)\n",
    "    test_error = 1 - accuracy_score(y_test_hot, y_test_pred)\n",
    "    testError.append(test_error)\n",
    "    end = timer()\n",
    "    time.append(end - start)\n",
    "    print(i, time[i])\n",
    "print(time)\n",
    "\n"
   ]
  },
  {
   "cell_type": "code",
   "execution_count": 11,
   "metadata": {},
   "outputs": [
    {
     "name": "stdout",
     "output_type": "stream",
     "text": [
      "0.4684722152000006\n"
     ]
    }
   ],
   "source": [
    "print(sum(time)/len(time))"
   ]
  },
  {
   "cell_type": "code",
   "execution_count": null,
   "metadata": {},
   "outputs": [],
   "source": []
  }
 ],
 "metadata": {
  "kernelspec": {
   "display_name": "Python 3",
   "language": "python",
   "name": "python3"
  },
  "language_info": {
   "codemirror_mode": {
    "name": "ipython",
    "version": 3
   },
   "file_extension": ".py",
   "mimetype": "text/x-python",
   "name": "python",
   "nbconvert_exporter": "python",
   "pygments_lexer": "ipython3",
   "version": "3.7.1"
  }
 },
 "nbformat": 4,
 "nbformat_minor": 2
}
