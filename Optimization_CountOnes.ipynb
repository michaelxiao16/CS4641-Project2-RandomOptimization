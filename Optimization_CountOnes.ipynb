{
 "cells": [
  {
   "cell_type": "markdown",
   "metadata": {},
   "source": [
    "### Import Libraries"
   ]
  },
  {
   "cell_type": "code",
   "execution_count": 1,
   "metadata": {},
   "outputs": [],
   "source": [
    "import mlrose\n",
    "\n",
    "from sklearn.datasets import load_iris\n",
    "from sklearn.model_selection import train_test_split\n",
    "from sklearn.preprocessing import MinMaxScaler, OneHotEncoder\n",
    "from sklearn.metrics import accuracy_score\n",
    "\n",
    "import numpy as np\n",
    "import pandas as pd\n",
    "import matplotlib.pyplot as plt\n",
    "from textwrap import wrap"
   ]
  },
  {
   "cell_type": "code",
   "execution_count": 2,
   "metadata": {},
   "outputs": [
    {
     "name": "stdout",
     "output_type": "stream",
     "text": [
      "Running for max_iteration size:  20\n",
      "Running for max_iteration size:  40\n",
      "Running for max_iteration size:  60\n",
      "Running for max_iteration size:  80\n",
      "Running for max_iteration size:  100\n",
      "Running for max_iteration size:  120\n",
      "Running for max_iteration size:  140\n",
      "Running for max_iteration size:  160\n",
      "Running for max_iteration size:  180\n",
      "Running for max_iteration size:  200\n",
      "Running for max_iteration size:  220\n",
      "Running for max_iteration size:  240\n",
      "Running for max_iteration size:  260\n",
      "Running for max_iteration size:  280\n",
      "Running for max_iteration size:  300\n",
      "Running for max_iteration size:  320\n",
      "Running for max_iteration size:  340\n",
      "Running for max_iteration size:  360\n",
      "Running for max_iteration size:  380\n",
      "Running for max_iteration size:  400\n",
      "Running for max_iteration size:  420\n",
      "Running for max_iteration size:  440\n",
      "Running for max_iteration size:  460\n",
      "Running for max_iteration size:  480\n",
      "Running for max_iteration size:  500\n",
      "Running for max_iteration size:  520\n",
      "Running for max_iteration size:  540\n",
      "Running for max_iteration size:  560\n",
      "Running for max_iteration size:  580\n",
      "Running for max_iteration size:  600\n",
      "Running for max_iteration size:  620\n",
      "Running for max_iteration size:  640\n",
      "Running for max_iteration size:  660\n",
      "Running for max_iteration size:  680\n",
      "Running for max_iteration size:  700\n",
      "Running for max_iteration size:  720\n",
      "Running for max_iteration size:  740\n",
      "Running for max_iteration size:  760\n",
      "Running for max_iteration size:  780\n",
      "Running for max_iteration size:  800\n",
      "Running for max_iteration size:  820\n",
      "Running for max_iteration size:  840\n",
      "Running for max_iteration size:  860\n",
      "Running for max_iteration size:  880\n",
      "Running for max_iteration size:  900\n",
      "Running for max_iteration size:  920\n",
      "Running for max_iteration size:  940\n",
      "Running for max_iteration size:  960\n",
      "Running for max_iteration size:  980\n"
     ]
    }
   ],
   "source": [
    "# Initialize fitness function object using pre-defined class\n",
    "fitness = mlrose.OneMax()\n",
    "\n",
    "MAX_ITER = 50 \n",
    "PROBLEM_SIZE = 50\n",
    "\n",
    "\n",
    "max_iteration_list = list()\n",
    "fitness_list_RHC = list()\n",
    "fitness_list_SM = list()\n",
    "fitness_list_GA = list()\n",
    "fitness_list_MIMIC = list()\n",
    "all_data = list()\n",
    "\n",
    "\n",
    "# Define optimization problem object\n",
    "problem = mlrose.DiscreteOpt(length = PROBLEM_SIZE, fitness_fn = fitness, maximize=True, max_val=2)\n",
    "\n",
    "for MAX_ITER in range(20, 1000, 20):  \n",
    "\n",
    "    print(\"Running for max_iteration size: \", MAX_ITER)\n",
    "\n",
    "    # # Define decay schedule\n",
    "    schedule = mlrose.ExpDecay()\n",
    "\n",
    "    np.random.seed(69)\n",
    "\n",
    "    # Solve using random hill climbing\n",
    "    best_state_RHC, best_fitness_RHC =  mlrose.random_hill_climb(problem, max_attempts=10, \n",
    "                                                                 max_iters=MAX_ITER, restarts=0, \n",
    "                                                                 init_state=None, curve=False, \n",
    "                                                                 random_state=None)\n",
    "\n",
    "    # Solve using simulated annealing \n",
    "    best_state_SM, best_fitness_SM = mlrose.simulated_annealing(problem, schedule = schedule, max_attempts = 50, \n",
    "                                                          max_iters = MAX_ITER, init_state = None)\n",
    "\n",
    "    # Solve problem using the genetic algorithm\n",
    "    best_state_GA, best_fitness_GA = mlrose.genetic_alg(problem, pop_size=200, mutation_prob=0.1, max_attempts=10, \n",
    "                                                        max_iters=MAX_ITER, curve=False, random_state=None)\n",
    "\n",
    "    # Solve problem using mimic\n",
    "    best_state_MIMIC, best_fitness_MIMIC = mlrose.mimic(problem, pop_size=200, keep_pct=0.2, max_attempts=10, \n",
    "                                                  max_iters=MAX_ITER, curve=False, random_state=None)\n",
    "    \n",
    "    \n",
    "    # Append to each individual list \n",
    "    fitness_list_RHC.append(best_fitness_RHC)\n",
    "    fitness_list_SM.append(best_fitness_SM)\n",
    "    fitness_list_GA.append(best_fitness_GA)\n",
    "    fitness_list_MIMIC.append(best_fitness_MIMIC)\n",
    "    \n",
    "    # Append Iteration size (For x-axis of our graph)\n",
    "    max_iteration_list.append(MAX_ITER)\n",
    "    \n",
    "    # Append data to list (for dataframe later)\n",
    "    all_data.append([MAX_ITER, best_fitness_RHC, best_fitness_SM, best_fitness_GA, best_fitness_MIMIC])\n",
    "    "
   ]
  },
  {
   "cell_type": "code",
   "execution_count": 3,
   "metadata": {},
   "outputs": [],
   "source": [
    "# Save everything in pandas dataframe \n",
    "cols = [\"Max Iterations\", \"RHC Solution\", \"SM Solution\", \"GA Solution\", \"MIMIC Solution\"]\n",
    "\n",
    "countOnes_df = pd.DataFrame(all_data, columns=cols)\n",
    "countOnes_df.to_csv(\"CountOnes_MaxIterations_data.csv\")"
   ]
  },
  {
   "cell_type": "code",
   "execution_count": 4,
   "metadata": {},
   "outputs": [
    {
     "name": "stdout",
     "output_type": "stream",
     "text": [
      "    Max Iterations  RHC Solution  SM Solution  GA Solution  MIMIC Solution\n",
      "0               20          35.0         32.0         39.0            50.0\n",
      "1               40          37.0         43.0         40.0            50.0\n",
      "2               60          37.0         33.0         37.0            50.0\n",
      "3               80          37.0         38.0         39.0            50.0\n",
      "4              100          37.0         39.0         39.0            50.0\n",
      "5              120          37.0         40.0         39.0            50.0\n",
      "6              140          37.0         43.0         38.0            50.0\n",
      "7              160          37.0         41.0         38.0            50.0\n",
      "8              180          37.0         41.0         40.0            50.0\n",
      "9              200          37.0         41.0         37.0            50.0\n",
      "10             220          37.0         43.0         39.0            50.0\n",
      "11             240          37.0         43.0         37.0            50.0\n",
      "12             260          37.0         44.0         42.0            50.0\n",
      "13             280          37.0         45.0         40.0            50.0\n",
      "14             300          37.0         47.0         38.0            50.0\n",
      "15             320          37.0         49.0         38.0            50.0\n",
      "16             340          37.0         49.0         37.0            50.0\n",
      "17             360          37.0         50.0         36.0            50.0\n",
      "18             380          37.0         50.0         39.0            50.0\n",
      "19             400          37.0         50.0         39.0            50.0\n",
      "20             420          37.0         50.0         39.0            50.0\n",
      "21             440          37.0         50.0         39.0            50.0\n",
      "22             460          37.0         50.0         39.0            50.0\n",
      "23             480          37.0         50.0         39.0            50.0\n",
      "24             500          37.0         50.0         39.0            50.0\n",
      "25             520          37.0         50.0         39.0            50.0\n",
      "26             540          37.0         50.0         39.0            50.0\n",
      "27             560          37.0         50.0         39.0            50.0\n",
      "28             580          37.0         50.0         39.0            50.0\n",
      "29             600          37.0         50.0         39.0            50.0\n",
      "30             620          37.0         50.0         39.0            50.0\n",
      "31             640          37.0         50.0         39.0            50.0\n",
      "32             660          37.0         50.0         39.0            50.0\n",
      "33             680          37.0         50.0         39.0            50.0\n",
      "34             700          37.0         50.0         39.0            50.0\n",
      "35             720          37.0         50.0         39.0            50.0\n",
      "36             740          37.0         50.0         39.0            50.0\n",
      "37             760          37.0         50.0         39.0            50.0\n",
      "38             780          37.0         50.0         39.0            50.0\n",
      "39             800          37.0         50.0         39.0            50.0\n",
      "40             820          37.0         50.0         39.0            50.0\n",
      "41             840          37.0         50.0         39.0            50.0\n",
      "42             860          37.0         50.0         39.0            50.0\n",
      "43             880          37.0         50.0         39.0            50.0\n",
      "44             900          37.0         50.0         39.0            50.0\n",
      "45             920          37.0         50.0         39.0            50.0\n",
      "46             940          37.0         50.0         39.0            50.0\n",
      "47             960          37.0         50.0         39.0            50.0\n",
      "48             980          37.0         50.0         39.0            50.0\n"
     ]
    }
   ],
   "source": [
    "print(countOnes_df)"
   ]
  },
  {
   "cell_type": "code",
   "execution_count": 5,
   "metadata": {},
   "outputs": [
    {
     "ename": "FileNotFoundError",
     "evalue": "[Errno 2] No such file or directory: '../plots/CountOnes_Iterations.png'",
     "output_type": "error",
     "traceback": [
      "\u001b[1;31m---------------------------------------------------------------------------\u001b[0m",
      "\u001b[1;31mFileNotFoundError\u001b[0m                         Traceback (most recent call last)",
      "\u001b[1;32m<ipython-input-5-2ef8fb1675d3>\u001b[0m in \u001b[0;36m<module>\u001b[1;34m\u001b[0m\n\u001b[0;32m     11\u001b[0m \u001b[0mplt\u001b[0m\u001b[1;33m.\u001b[0m\u001b[0mylabel\u001b[0m\u001b[1;33m(\u001b[0m\u001b[1;34m'Best Solution'\u001b[0m\u001b[1;33m)\u001b[0m\u001b[1;33m\u001b[0m\u001b[1;33m\u001b[0m\u001b[0m\n\u001b[0;32m     12\u001b[0m \u001b[0mfilename\u001b[0m \u001b[1;33m=\u001b[0m \u001b[1;34m'CountOnes_Iterations.png'\u001b[0m\u001b[1;33m\u001b[0m\u001b[1;33m\u001b[0m\u001b[0m\n\u001b[1;32m---> 13\u001b[1;33m \u001b[0mplt\u001b[0m\u001b[1;33m.\u001b[0m\u001b[0msavefig\u001b[0m\u001b[1;33m(\u001b[0m\u001b[1;34m\"../plots/\"\u001b[0m \u001b[1;33m+\u001b[0m \u001b[0mfilename\u001b[0m\u001b[1;33m)\u001b[0m\u001b[1;33m\u001b[0m\u001b[1;33m\u001b[0m\u001b[0m\n\u001b[0m",
      "\u001b[1;32m~\\Anaconda3\\lib\\site-packages\\matplotlib\\pyplot.py\u001b[0m in \u001b[0;36msavefig\u001b[1;34m(*args, **kwargs)\u001b[0m\n\u001b[0;32m    687\u001b[0m \u001b[1;32mdef\u001b[0m \u001b[0msavefig\u001b[0m\u001b[1;33m(\u001b[0m\u001b[1;33m*\u001b[0m\u001b[0margs\u001b[0m\u001b[1;33m,\u001b[0m \u001b[1;33m**\u001b[0m\u001b[0mkwargs\u001b[0m\u001b[1;33m)\u001b[0m\u001b[1;33m:\u001b[0m\u001b[1;33m\u001b[0m\u001b[1;33m\u001b[0m\u001b[0m\n\u001b[0;32m    688\u001b[0m     \u001b[0mfig\u001b[0m \u001b[1;33m=\u001b[0m \u001b[0mgcf\u001b[0m\u001b[1;33m(\u001b[0m\u001b[1;33m)\u001b[0m\u001b[1;33m\u001b[0m\u001b[1;33m\u001b[0m\u001b[0m\n\u001b[1;32m--> 689\u001b[1;33m     \u001b[0mres\u001b[0m \u001b[1;33m=\u001b[0m \u001b[0mfig\u001b[0m\u001b[1;33m.\u001b[0m\u001b[0msavefig\u001b[0m\u001b[1;33m(\u001b[0m\u001b[1;33m*\u001b[0m\u001b[0margs\u001b[0m\u001b[1;33m,\u001b[0m \u001b[1;33m**\u001b[0m\u001b[0mkwargs\u001b[0m\u001b[1;33m)\u001b[0m\u001b[1;33m\u001b[0m\u001b[1;33m\u001b[0m\u001b[0m\n\u001b[0m\u001b[0;32m    690\u001b[0m     \u001b[0mfig\u001b[0m\u001b[1;33m.\u001b[0m\u001b[0mcanvas\u001b[0m\u001b[1;33m.\u001b[0m\u001b[0mdraw_idle\u001b[0m\u001b[1;33m(\u001b[0m\u001b[1;33m)\u001b[0m   \u001b[1;31m# need this if 'transparent=True' to reset colors\u001b[0m\u001b[1;33m\u001b[0m\u001b[1;33m\u001b[0m\u001b[0m\n\u001b[0;32m    691\u001b[0m     \u001b[1;32mreturn\u001b[0m \u001b[0mres\u001b[0m\u001b[1;33m\u001b[0m\u001b[1;33m\u001b[0m\u001b[0m\n",
      "\u001b[1;32m~\\Anaconda3\\lib\\site-packages\\matplotlib\\figure.py\u001b[0m in \u001b[0;36msavefig\u001b[1;34m(self, fname, frameon, transparent, **kwargs)\u001b[0m\n\u001b[0;32m   2092\u001b[0m             \u001b[0mself\u001b[0m\u001b[1;33m.\u001b[0m\u001b[0mset_frameon\u001b[0m\u001b[1;33m(\u001b[0m\u001b[0mframeon\u001b[0m\u001b[1;33m)\u001b[0m\u001b[1;33m\u001b[0m\u001b[1;33m\u001b[0m\u001b[0m\n\u001b[0;32m   2093\u001b[0m \u001b[1;33m\u001b[0m\u001b[0m\n\u001b[1;32m-> 2094\u001b[1;33m         \u001b[0mself\u001b[0m\u001b[1;33m.\u001b[0m\u001b[0mcanvas\u001b[0m\u001b[1;33m.\u001b[0m\u001b[0mprint_figure\u001b[0m\u001b[1;33m(\u001b[0m\u001b[0mfname\u001b[0m\u001b[1;33m,\u001b[0m \u001b[1;33m**\u001b[0m\u001b[0mkwargs\u001b[0m\u001b[1;33m)\u001b[0m\u001b[1;33m\u001b[0m\u001b[1;33m\u001b[0m\u001b[0m\n\u001b[0m\u001b[0;32m   2095\u001b[0m \u001b[1;33m\u001b[0m\u001b[0m\n\u001b[0;32m   2096\u001b[0m         \u001b[1;32mif\u001b[0m \u001b[0mframeon\u001b[0m\u001b[1;33m:\u001b[0m\u001b[1;33m\u001b[0m\u001b[1;33m\u001b[0m\u001b[0m\n",
      "\u001b[1;32m~\\Anaconda3\\lib\\site-packages\\matplotlib\\backend_bases.py\u001b[0m in \u001b[0;36mprint_figure\u001b[1;34m(self, filename, dpi, facecolor, edgecolor, orientation, format, bbox_inches, **kwargs)\u001b[0m\n\u001b[0;32m   2073\u001b[0m                     \u001b[0morientation\u001b[0m\u001b[1;33m=\u001b[0m\u001b[0morientation\u001b[0m\u001b[1;33m,\u001b[0m\u001b[1;33m\u001b[0m\u001b[1;33m\u001b[0m\u001b[0m\n\u001b[0;32m   2074\u001b[0m                     \u001b[0mbbox_inches_restore\u001b[0m\u001b[1;33m=\u001b[0m\u001b[0m_bbox_inches_restore\u001b[0m\u001b[1;33m,\u001b[0m\u001b[1;33m\u001b[0m\u001b[1;33m\u001b[0m\u001b[0m\n\u001b[1;32m-> 2075\u001b[1;33m                     **kwargs)\n\u001b[0m\u001b[0;32m   2076\u001b[0m             \u001b[1;32mfinally\u001b[0m\u001b[1;33m:\u001b[0m\u001b[1;33m\u001b[0m\u001b[1;33m\u001b[0m\u001b[0m\n\u001b[0;32m   2077\u001b[0m                 \u001b[1;32mif\u001b[0m \u001b[0mbbox_inches\u001b[0m \u001b[1;32mand\u001b[0m \u001b[0mrestore_bbox\u001b[0m\u001b[1;33m:\u001b[0m\u001b[1;33m\u001b[0m\u001b[1;33m\u001b[0m\u001b[0m\n",
      "\u001b[1;32m~\\Anaconda3\\lib\\site-packages\\matplotlib\\backends\\backend_agg.py\u001b[0m in \u001b[0;36mprint_png\u001b[1;34m(self, filename_or_obj, *args, **kwargs)\u001b[0m\n\u001b[0;32m    519\u001b[0m \u001b[1;33m\u001b[0m\u001b[0m\n\u001b[0;32m    520\u001b[0m         \u001b[1;32mwith\u001b[0m \u001b[0mcbook\u001b[0m\u001b[1;33m.\u001b[0m\u001b[0m_setattr_cm\u001b[0m\u001b[1;33m(\u001b[0m\u001b[0mrenderer\u001b[0m\u001b[1;33m,\u001b[0m \u001b[0mdpi\u001b[0m\u001b[1;33m=\u001b[0m\u001b[0mself\u001b[0m\u001b[1;33m.\u001b[0m\u001b[0mfigure\u001b[0m\u001b[1;33m.\u001b[0m\u001b[0mdpi\u001b[0m\u001b[1;33m)\u001b[0m\u001b[1;33m,\u001b[0m\u001b[0;31m \u001b[0m\u001b[0;31m\\\u001b[0m\u001b[1;33m\u001b[0m\u001b[1;33m\u001b[0m\u001b[0m\n\u001b[1;32m--> 521\u001b[1;33m                 \u001b[0mcbook\u001b[0m\u001b[1;33m.\u001b[0m\u001b[0mopen_file_cm\u001b[0m\u001b[1;33m(\u001b[0m\u001b[0mfilename_or_obj\u001b[0m\u001b[1;33m,\u001b[0m \u001b[1;34m\"wb\"\u001b[0m\u001b[1;33m)\u001b[0m \u001b[1;32mas\u001b[0m \u001b[0mfh\u001b[0m\u001b[1;33m:\u001b[0m\u001b[1;33m\u001b[0m\u001b[1;33m\u001b[0m\u001b[0m\n\u001b[0m\u001b[0;32m    522\u001b[0m             _png.write_png(renderer._renderer, fh,\n\u001b[0;32m    523\u001b[0m                             self.figure.dpi, metadata=metadata)\n",
      "\u001b[1;32m~\\Anaconda3\\lib\\contextlib.py\u001b[0m in \u001b[0;36m__enter__\u001b[1;34m(self)\u001b[0m\n\u001b[0;32m    110\u001b[0m         \u001b[1;32mdel\u001b[0m \u001b[0mself\u001b[0m\u001b[1;33m.\u001b[0m\u001b[0margs\u001b[0m\u001b[1;33m,\u001b[0m \u001b[0mself\u001b[0m\u001b[1;33m.\u001b[0m\u001b[0mkwds\u001b[0m\u001b[1;33m,\u001b[0m \u001b[0mself\u001b[0m\u001b[1;33m.\u001b[0m\u001b[0mfunc\u001b[0m\u001b[1;33m\u001b[0m\u001b[1;33m\u001b[0m\u001b[0m\n\u001b[0;32m    111\u001b[0m         \u001b[1;32mtry\u001b[0m\u001b[1;33m:\u001b[0m\u001b[1;33m\u001b[0m\u001b[1;33m\u001b[0m\u001b[0m\n\u001b[1;32m--> 112\u001b[1;33m             \u001b[1;32mreturn\u001b[0m \u001b[0mnext\u001b[0m\u001b[1;33m(\u001b[0m\u001b[0mself\u001b[0m\u001b[1;33m.\u001b[0m\u001b[0mgen\u001b[0m\u001b[1;33m)\u001b[0m\u001b[1;33m\u001b[0m\u001b[1;33m\u001b[0m\u001b[0m\n\u001b[0m\u001b[0;32m    113\u001b[0m         \u001b[1;32mexcept\u001b[0m \u001b[0mStopIteration\u001b[0m\u001b[1;33m:\u001b[0m\u001b[1;33m\u001b[0m\u001b[1;33m\u001b[0m\u001b[0m\n\u001b[0;32m    114\u001b[0m             \u001b[1;32mraise\u001b[0m \u001b[0mRuntimeError\u001b[0m\u001b[1;33m(\u001b[0m\u001b[1;34m\"generator didn't yield\"\u001b[0m\u001b[1;33m)\u001b[0m \u001b[1;32mfrom\u001b[0m \u001b[1;32mNone\u001b[0m\u001b[1;33m\u001b[0m\u001b[1;33m\u001b[0m\u001b[0m\n",
      "\u001b[1;32m~\\Anaconda3\\lib\\site-packages\\matplotlib\\cbook\\__init__.py\u001b[0m in \u001b[0;36mopen_file_cm\u001b[1;34m(path_or_file, mode, encoding)\u001b[0m\n\u001b[0;32m    405\u001b[0m \u001b[1;32mdef\u001b[0m \u001b[0mopen_file_cm\u001b[0m\u001b[1;33m(\u001b[0m\u001b[0mpath_or_file\u001b[0m\u001b[1;33m,\u001b[0m \u001b[0mmode\u001b[0m\u001b[1;33m=\u001b[0m\u001b[1;34m\"r\"\u001b[0m\u001b[1;33m,\u001b[0m \u001b[0mencoding\u001b[0m\u001b[1;33m=\u001b[0m\u001b[1;32mNone\u001b[0m\u001b[1;33m)\u001b[0m\u001b[1;33m:\u001b[0m\u001b[1;33m\u001b[0m\u001b[1;33m\u001b[0m\u001b[0m\n\u001b[0;32m    406\u001b[0m     \u001b[1;34mr\"\"\"Pass through file objects and context-manage `.PathLike`\\s.\"\"\"\u001b[0m\u001b[1;33m\u001b[0m\u001b[1;33m\u001b[0m\u001b[0m\n\u001b[1;32m--> 407\u001b[1;33m     \u001b[0mfh\u001b[0m\u001b[1;33m,\u001b[0m \u001b[0mopened\u001b[0m \u001b[1;33m=\u001b[0m \u001b[0mto_filehandle\u001b[0m\u001b[1;33m(\u001b[0m\u001b[0mpath_or_file\u001b[0m\u001b[1;33m,\u001b[0m \u001b[0mmode\u001b[0m\u001b[1;33m,\u001b[0m \u001b[1;32mTrue\u001b[0m\u001b[1;33m,\u001b[0m \u001b[0mencoding\u001b[0m\u001b[1;33m)\u001b[0m\u001b[1;33m\u001b[0m\u001b[1;33m\u001b[0m\u001b[0m\n\u001b[0m\u001b[0;32m    408\u001b[0m     \u001b[1;32mif\u001b[0m \u001b[0mopened\u001b[0m\u001b[1;33m:\u001b[0m\u001b[1;33m\u001b[0m\u001b[1;33m\u001b[0m\u001b[0m\n\u001b[0;32m    409\u001b[0m         \u001b[1;32mwith\u001b[0m \u001b[0mfh\u001b[0m\u001b[1;33m:\u001b[0m\u001b[1;33m\u001b[0m\u001b[1;33m\u001b[0m\u001b[0m\n",
      "\u001b[1;32m~\\Anaconda3\\lib\\site-packages\\matplotlib\\cbook\\__init__.py\u001b[0m in \u001b[0;36mto_filehandle\u001b[1;34m(fname, flag, return_opened, encoding)\u001b[0m\n\u001b[0;32m    390\u001b[0m             \u001b[0mfh\u001b[0m \u001b[1;33m=\u001b[0m \u001b[0mbz2\u001b[0m\u001b[1;33m.\u001b[0m\u001b[0mBZ2File\u001b[0m\u001b[1;33m(\u001b[0m\u001b[0mfname\u001b[0m\u001b[1;33m,\u001b[0m \u001b[0mflag\u001b[0m\u001b[1;33m)\u001b[0m\u001b[1;33m\u001b[0m\u001b[1;33m\u001b[0m\u001b[0m\n\u001b[0;32m    391\u001b[0m         \u001b[1;32melse\u001b[0m\u001b[1;33m:\u001b[0m\u001b[1;33m\u001b[0m\u001b[1;33m\u001b[0m\u001b[0m\n\u001b[1;32m--> 392\u001b[1;33m             \u001b[0mfh\u001b[0m \u001b[1;33m=\u001b[0m \u001b[0mopen\u001b[0m\u001b[1;33m(\u001b[0m\u001b[0mfname\u001b[0m\u001b[1;33m,\u001b[0m \u001b[0mflag\u001b[0m\u001b[1;33m,\u001b[0m \u001b[0mencoding\u001b[0m\u001b[1;33m=\u001b[0m\u001b[0mencoding\u001b[0m\u001b[1;33m)\u001b[0m\u001b[1;33m\u001b[0m\u001b[1;33m\u001b[0m\u001b[0m\n\u001b[0m\u001b[0;32m    393\u001b[0m         \u001b[0mopened\u001b[0m \u001b[1;33m=\u001b[0m \u001b[1;32mTrue\u001b[0m\u001b[1;33m\u001b[0m\u001b[1;33m\u001b[0m\u001b[0m\n\u001b[0;32m    394\u001b[0m     \u001b[1;32melif\u001b[0m \u001b[0mhasattr\u001b[0m\u001b[1;33m(\u001b[0m\u001b[0mfname\u001b[0m\u001b[1;33m,\u001b[0m \u001b[1;34m'seek'\u001b[0m\u001b[1;33m)\u001b[0m\u001b[1;33m:\u001b[0m\u001b[1;33m\u001b[0m\u001b[1;33m\u001b[0m\u001b[0m\n",
      "\u001b[1;31mFileNotFoundError\u001b[0m: [Errno 2] No such file or directory: '../plots/CountOnes_Iterations.png'"
     ]
    },
    {
     "data": {
      "image/png": "[encoded data removed]",
      "text/plain": [
       "<Figure size 432x288 with 1 Axes>"
      ]
     },
     "metadata": {
      "needs_background": "light"
     },
     "output_type": "display_data"
    }
   ],
   "source": [
    "plt.figure()\n",
    "title = \"Count Ones (Various Algorithms) : Best Solution x Training Iterations\"\n",
    "plt.title('\\n'.join(wrap(title,60)))\n",
    "# plt.subplots_adjust(top=0.85)\n",
    "plt.plot(max_iteration_list, fitness_list_RHC, '-', label='RHC Solution')\n",
    "plt.plot(max_iteration_list, fitness_list_SM, '-', label='SA Solution')\n",
    "plt.plot(max_iteration_list, fitness_list_GA, '-', label='GA  Solution')\n",
    "plt.plot(max_iteration_list, fitness_list_MIMIC, '-', label='MIMIC Solution')\n",
    "plt.legend()\n",
    "plt.xlabel('Training Iterations')\n",
    "plt.ylabel('Best Solution')\n",
    "filename = 'CountOnes_Iterations.png'\n",
    "plt.savefig(\"../plots/\" + filename)"
   ]
  },
  {
   "cell_type": "code",
   "execution_count": null,
   "metadata": {},
   "outputs": [],
   "source": []
  }
 ],
 "metadata": {
  "kernelspec": {
   "display_name": "Python 3",
   "language": "python",
   "name": "python3"
  },
  "language_info": {
   "codemirror_mode": {
    "name": "ipython",
    "version": 3
   },
   "file_extension": ".py",
   "mimetype": "text/x-python",
   "name": "python",
   "nbconvert_exporter": "python",
   "pygments_lexer": "ipython3",
   "version": "3.7.1"
  }
 },
 "nbformat": 4,
 "nbformat_minor": 2
}
