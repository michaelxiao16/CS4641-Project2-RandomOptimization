{
 "cells": [
  {
   "cell_type": "code",
   "execution_count": 1,
   "metadata": {},
   "outputs": [
    {
     "ename": "ModuleNotFoundError",
     "evalue": "No module named 'writeToExcel'",
     "output_type": "error",
     "traceback": [
      "\u001b[1;31m---------------------------------------------------------------------------\u001b[0m",
      "\u001b[1;31mModuleNotFoundError\u001b[0m                       Traceback (most recent call last)",
      "\u001b[1;32m<ipython-input-1-7cfe02cee9fa>\u001b[0m in \u001b[0;36m<module>\u001b[1;34m\u001b[0m\n\u001b[0;32m      2\u001b[0m \u001b[1;32mimport\u001b[0m \u001b[0mnumpy\u001b[0m \u001b[1;32mas\u001b[0m \u001b[0mnp\u001b[0m\u001b[1;33m\u001b[0m\u001b[1;33m\u001b[0m\u001b[0m\n\u001b[0;32m      3\u001b[0m \u001b[1;32mfrom\u001b[0m \u001b[0mtime\u001b[0m \u001b[1;32mimport\u001b[0m \u001b[0mtime\u001b[0m\u001b[1;33m\u001b[0m\u001b[1;33m\u001b[0m\u001b[0m\n\u001b[1;32m----> 4\u001b[1;33m \u001b[1;32mimport\u001b[0m \u001b[0mwriteToExcel\u001b[0m\u001b[1;33m\u001b[0m\u001b[1;33m\u001b[0m\u001b[0m\n\u001b[0m",
      "\u001b[1;31mModuleNotFoundError\u001b[0m: No module named 'writeToExcel'"
     ]
    }
   ],
   "source": [
    "import mlrose\n",
    "import numpy as np\n",
    "from time import time\n",
    "import writeToExcel"
   ]
  },
  {
   "cell_type": "code",
   "execution_count": null,
   "metadata": {},
   "outputs": [],
   "source": [
    "rhcFit = []\n",
    "saFit = []\n",
    "genFit = []\n",
    "mimicFit = []\n",
    "np.random.seed(2)\n",
    "values = []\n",
    "weights = []\n",
    "for i in range(10):\n",
    "    val = int(np.random.uniform(1, 10, None))\n",
    "    weight = int(np.random.uniform(1, 10, None))\n",
    "    values.append(val)\n",
    "    weights.append(weight)\n",
    "KnapSack(weights, values, False)"
   ]
  },
  {
   "cell_type": "code",
   "execution_count": null,
   "metadata": {},
   "outputs": [],
   "source": [
    "rhcFit = []\n",
    "saFit = []\n",
    "genFit = []\n",
    "mimicFit = []\n",
    "np.random.seed(2)\n",
    "values = []\n",
    "weights = []\n",
    "for i in range(4):\n",
    "    val = int(np.random.uniform(1, 10, None))\n",
    "    weight = int(np.random.uniform(1, 10, None))\n",
    "    values.append(val)\n",
    "    weights.append(weight)\n",
    "for items in range(4, 20):\n",
    "    print (items)\n",
    "    print (weights)\n",
    "    print (values)\n",
    "    val = int(np.random.uniform(1, 10, None))\n",
    "    weight = int(np.random.uniform(1, 10, None))\n",
    "    values.append(val)\n",
    "    weights.append(weight)\n",
    "    rhc, sa, gen, mimic = KnapSack(weights, values, True)\n",
    "    print (rhc)\n",
    "    print (sa)\n",
    "    print (gen)\n",
    "    print (mimic)\n",
    "    add = (items, rhc[0][1], rhc[0][2])\n",
    "    rhcFit.append(add)\n",
    "    add = (items, sa[0][1], sa[0][2])\n",
    "    saFit.append(add)\n",
    "    add = (items, gen[0][1], gen[0][2])\n",
    "    genFit.append(add)\n",
    "    add = (items, mimic[0][1], mimic[0][2])\n",
    "    mimicFit.append(add)\n",
    "\n",
    "writeToExcel.writeOptimzationProblem(rhcFit, saFit, genFit, mimicFit, \"KnapSackMoreItems.xlsx\")"
   ]
  }
 ],
 "metadata": {
  "kernelspec": {
   "display_name": "Python 3",
   "language": "python",
   "name": "python3"
  },
  "language_info": {
   "codemirror_mode": {
    "name": "ipython",
    "version": 3
   },
   "file_extension": ".py",
   "mimetype": "text/x-python",
   "name": "python",
   "nbconvert_exporter": "python",
   "pygments_lexer": "ipython3",
   "version": "3.7.1"
  }
 },
 "nbformat": 4,
 "nbformat_minor": 2
}
